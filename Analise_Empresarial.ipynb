{
 "cells": [
  {
   "cell_type": "markdown",
   "metadata": {},
   "source": [
    "# Analisando Base de Dados sobre a saída de funcionários"
   ]
  },
  {
   "cell_type": "markdown",
   "metadata": {},
   "source": [
    "## Importando bibliotecas"
   ]
  },
  {
   "cell_type": "code",
   "execution_count": 19,
   "metadata": {},
   "outputs": [],
   "source": [
    "import pandas as pd \n",
    "import matplotlib.pyplot as plt\n",
    "import seaborn as sns"
   ]
  },
  {
   "cell_type": "markdown",
   "metadata": {},
   "source": [
    "## Lendo a base de dados"
   ]
  },
  {
   "cell_type": "code",
   "execution_count": 20,
   "metadata": {},
   "outputs": [
    {
     "data": {
      "text/html": [
       "<div>\n",
       "<style scoped>\n",
       "    .dataframe tbody tr th:only-of-type {\n",
       "        vertical-align: middle;\n",
       "    }\n",
       "\n",
       "    .dataframe tbody tr th {\n",
       "        vertical-align: top;\n",
       "    }\n",
       "\n",
       "    .dataframe thead th {\n",
       "        text-align: right;\n",
       "    }\n",
       "</style>\n",
       "<table border=\"1\" class=\"dataframe\">\n",
       "  <thead>\n",
       "    <tr style=\"text-align: right;\">\n",
       "      <th></th>\n",
       "      <th>Employee ID</th>\n",
       "      <th>Age</th>\n",
       "      <th>Gender</th>\n",
       "      <th>Years at Company</th>\n",
       "      <th>Job Role</th>\n",
       "      <th>Monthly Income</th>\n",
       "      <th>Work-Life Balance</th>\n",
       "      <th>Job Satisfaction</th>\n",
       "      <th>Performance Rating</th>\n",
       "      <th>Number of Promotions</th>\n",
       "      <th>...</th>\n",
       "      <th>Number of Dependents</th>\n",
       "      <th>Job Level</th>\n",
       "      <th>Company Size</th>\n",
       "      <th>Company Tenure</th>\n",
       "      <th>Remote Work</th>\n",
       "      <th>Leadership Opportunities</th>\n",
       "      <th>Innovation Opportunities</th>\n",
       "      <th>Company Reputation</th>\n",
       "      <th>Employee Recognition</th>\n",
       "      <th>Attrition</th>\n",
       "    </tr>\n",
       "  </thead>\n",
       "  <tbody>\n",
       "    <tr>\n",
       "      <th>0</th>\n",
       "      <td>52685</td>\n",
       "      <td>36</td>\n",
       "      <td>Male</td>\n",
       "      <td>13</td>\n",
       "      <td>Healthcare</td>\n",
       "      <td>8029</td>\n",
       "      <td>Excellent</td>\n",
       "      <td>High</td>\n",
       "      <td>Average</td>\n",
       "      <td>1</td>\n",
       "      <td>...</td>\n",
       "      <td>1</td>\n",
       "      <td>Mid</td>\n",
       "      <td>Large</td>\n",
       "      <td>22</td>\n",
       "      <td>No</td>\n",
       "      <td>No</td>\n",
       "      <td>No</td>\n",
       "      <td>Poor</td>\n",
       "      <td>Medium</td>\n",
       "      <td>Stayed</td>\n",
       "    </tr>\n",
       "    <tr>\n",
       "      <th>1</th>\n",
       "      <td>30585</td>\n",
       "      <td>35</td>\n",
       "      <td>Male</td>\n",
       "      <td>7</td>\n",
       "      <td>Education</td>\n",
       "      <td>4563</td>\n",
       "      <td>Good</td>\n",
       "      <td>High</td>\n",
       "      <td>Average</td>\n",
       "      <td>1</td>\n",
       "      <td>...</td>\n",
       "      <td>4</td>\n",
       "      <td>Entry</td>\n",
       "      <td>Medium</td>\n",
       "      <td>27</td>\n",
       "      <td>No</td>\n",
       "      <td>No</td>\n",
       "      <td>No</td>\n",
       "      <td>Good</td>\n",
       "      <td>High</td>\n",
       "      <td>Left</td>\n",
       "    </tr>\n",
       "    <tr>\n",
       "      <th>2</th>\n",
       "      <td>54656</td>\n",
       "      <td>50</td>\n",
       "      <td>Male</td>\n",
       "      <td>7</td>\n",
       "      <td>Education</td>\n",
       "      <td>5583</td>\n",
       "      <td>Fair</td>\n",
       "      <td>High</td>\n",
       "      <td>Average</td>\n",
       "      <td>3</td>\n",
       "      <td>...</td>\n",
       "      <td>2</td>\n",
       "      <td>Senior</td>\n",
       "      <td>Medium</td>\n",
       "      <td>76</td>\n",
       "      <td>No</td>\n",
       "      <td>No</td>\n",
       "      <td>Yes</td>\n",
       "      <td>Good</td>\n",
       "      <td>Low</td>\n",
       "      <td>Stayed</td>\n",
       "    </tr>\n",
       "    <tr>\n",
       "      <th>3</th>\n",
       "      <td>33442</td>\n",
       "      <td>58</td>\n",
       "      <td>Male</td>\n",
       "      <td>44</td>\n",
       "      <td>Media</td>\n",
       "      <td>5525</td>\n",
       "      <td>Fair</td>\n",
       "      <td>Very High</td>\n",
       "      <td>High</td>\n",
       "      <td>0</td>\n",
       "      <td>...</td>\n",
       "      <td>4</td>\n",
       "      <td>Entry</td>\n",
       "      <td>Medium</td>\n",
       "      <td>96</td>\n",
       "      <td>No</td>\n",
       "      <td>No</td>\n",
       "      <td>No</td>\n",
       "      <td>Poor</td>\n",
       "      <td>Low</td>\n",
       "      <td>Left</td>\n",
       "    </tr>\n",
       "    <tr>\n",
       "      <th>4</th>\n",
       "      <td>15667</td>\n",
       "      <td>39</td>\n",
       "      <td>Male</td>\n",
       "      <td>24</td>\n",
       "      <td>Education</td>\n",
       "      <td>4604</td>\n",
       "      <td>Good</td>\n",
       "      <td>High</td>\n",
       "      <td>Average</td>\n",
       "      <td>0</td>\n",
       "      <td>...</td>\n",
       "      <td>6</td>\n",
       "      <td>Mid</td>\n",
       "      <td>Large</td>\n",
       "      <td>45</td>\n",
       "      <td>Yes</td>\n",
       "      <td>No</td>\n",
       "      <td>No</td>\n",
       "      <td>Good</td>\n",
       "      <td>High</td>\n",
       "      <td>Stayed</td>\n",
       "    </tr>\n",
       "  </tbody>\n",
       "</table>\n",
       "<p>5 rows × 24 columns</p>\n",
       "</div>"
      ],
      "text/plain": [
       "   Employee ID  Age Gender  Years at Company    Job Role  Monthly Income  \\\n",
       "0        52685   36   Male                13  Healthcare            8029   \n",
       "1        30585   35   Male                 7   Education            4563   \n",
       "2        54656   50   Male                 7   Education            5583   \n",
       "3        33442   58   Male                44       Media            5525   \n",
       "4        15667   39   Male                24   Education            4604   \n",
       "\n",
       "  Work-Life Balance Job Satisfaction Performance Rating  Number of Promotions  \\\n",
       "0         Excellent             High            Average                     1   \n",
       "1              Good             High            Average                     1   \n",
       "2              Fair             High            Average                     3   \n",
       "3              Fair        Very High               High                     0   \n",
       "4              Good             High            Average                     0   \n",
       "\n",
       "   ... Number of Dependents  Job Level Company Size Company Tenure  \\\n",
       "0  ...                    1        Mid        Large             22   \n",
       "1  ...                    4      Entry       Medium             27   \n",
       "2  ...                    2     Senior       Medium             76   \n",
       "3  ...                    4      Entry       Medium             96   \n",
       "4  ...                    6        Mid        Large             45   \n",
       "\n",
       "   Remote Work Leadership Opportunities Innovation Opportunities  \\\n",
       "0           No                       No                       No   \n",
       "1           No                       No                       No   \n",
       "2           No                       No                      Yes   \n",
       "3           No                       No                       No   \n",
       "4          Yes                       No                       No   \n",
       "\n",
       "   Company Reputation Employee Recognition Attrition  \n",
       "0                Poor               Medium    Stayed  \n",
       "1                Good                 High      Left  \n",
       "2                Good                  Low    Stayed  \n",
       "3                Poor                  Low      Left  \n",
       "4                Good                 High    Stayed  \n",
       "\n",
       "[5 rows x 24 columns]"
      ]
     },
     "execution_count": 20,
     "metadata": {},
     "output_type": "execute_result"
    }
   ],
   "source": [
    "df = pd.read_csv(\"test.csv\")\n",
    "df.head()"
   ]
  },
  {
   "cell_type": "markdown",
   "metadata": {},
   "source": [
    "## Analisando as informações das colunas"
   ]
  },
  {
   "cell_type": "code",
   "execution_count": 21,
   "metadata": {},
   "outputs": [
    {
     "name": "stdout",
     "output_type": "stream",
     "text": [
      "<class 'pandas.core.frame.DataFrame'>\n",
      "RangeIndex: 14900 entries, 0 to 14899\n",
      "Data columns (total 24 columns):\n",
      " #   Column                    Non-Null Count  Dtype \n",
      "---  ------                    --------------  ----- \n",
      " 0   Employee ID               14900 non-null  int64 \n",
      " 1   Age                       14900 non-null  int64 \n",
      " 2   Gender                    14900 non-null  object\n",
      " 3   Years at Company          14900 non-null  int64 \n",
      " 4   Job Role                  14900 non-null  object\n",
      " 5   Monthly Income            14900 non-null  int64 \n",
      " 6   Work-Life Balance         14900 non-null  object\n",
      " 7   Job Satisfaction          14900 non-null  object\n",
      " 8   Performance Rating        14900 non-null  object\n",
      " 9   Number of Promotions      14900 non-null  int64 \n",
      " 10  Overtime                  14900 non-null  object\n",
      " 11  Distance from Home        14900 non-null  int64 \n",
      " 12  Education Level           14900 non-null  object\n",
      " 13  Marital Status            14900 non-null  object\n",
      " 14  Number of Dependents      14900 non-null  int64 \n",
      " 15  Job Level                 14900 non-null  object\n",
      " 16  Company Size              14900 non-null  object\n",
      " 17  Company Tenure            14900 non-null  int64 \n",
      " 18  Remote Work               14900 non-null  object\n",
      " 19  Leadership Opportunities  14900 non-null  object\n",
      " 20  Innovation Opportunities  14900 non-null  object\n",
      " 21  Company Reputation        14900 non-null  object\n",
      " 22  Employee Recognition      14900 non-null  object\n",
      " 23  Attrition                 14900 non-null  object\n",
      "dtypes: int64(8), object(16)\n",
      "memory usage: 2.7+ MB\n"
     ]
    }
   ],
   "source": [
    "df.info()"
   ]
  },
  {
   "cell_type": "markdown",
   "metadata": {},
   "source": [
    "## Analisando a porcentagem dos funcionários que saíram com base no números de promoções recebidas"
   ]
  },
  {
   "cell_type": "code",
   "execution_count": 22,
   "metadata": {},
   "outputs": [
    {
     "data": {
      "text/plain": [
       "<Axes: xlabel='Number of Promotions', ylabel='Porcentagem'>"
      ]
     },
     "execution_count": 22,
     "metadata": {},
     "output_type": "execute_result"
    },
    {
     "data": {
      "image/png": "[encoded data removed]",
      "text/plain": [
       "<Figure size 640x480 with 1 Axes>"
      ]
     },
     "metadata": {},
     "output_type": "display_data"
    }
   ],
   "source": [
    "funcionariosSairamComBasePromoções = df.loc[df[\"Attrition\"] == \"Left\"] #Filtrando os dados só de quem saiu\n",
    "funcionariosSairamComBasePromoções = funcionariosSairamComBasePromoções[[\"Attrition\", \"Number of Promotions\", \"Company Size\"]].groupby([\"Attrition\", \"Number of Promotions\"]).count()\n",
    "total = funcionariosSairamComBasePromoções[\"Company Size\"].sum() # estou pegando o total de pessoas que sairam da empresa\n",
    "funcionariosSairamComBasePromoções[\"Porcentagem\"] = round((funcionariosSairamComBasePromoções[\"Company Size\"] / total) * 100, 2) #Craindo uma coluna com a porcentagem de cada situação\n",
    "\n",
    "sns.scatterplot(funcionariosSairamComBasePromoções, x = \"Number of Promotions\", y = \"Porcentagem\")"
   ]
  },
  {
   "cell_type": "markdown",
   "metadata": {},
   "source": [
    "Analisando o perfil dos funcionarios que sairam da empresa, vemos que quanto menos promoções eles recebem, maior a porcentagem de saída da empresa, o que pode nos levar a pensar que quantidade de promoções é muito importante para a rentenção dos funcionários na empresa e pode servir como uma estratégia para diminuir o turnover!"
   ]
  },
  {
   "cell_type": "markdown",
   "metadata": {},
   "source": [
    "# Analisando a porcentagem dos funcinários que sairam da empresa com base no seu recohecimento na própria"
   ]
  },
  {
   "cell_type": "code",
   "execution_count": 23,
   "metadata": {},
   "outputs": [
    {
     "data": {
      "image/png": "[encoded data removed]",
      "text/plain": [
       "<Figure size 640x480 with 1 Axes>"
      ]
     },
     "metadata": {},
     "output_type": "display_data"
    }
   ],
   "source": [
    "funcionariosSairamReconhecimentoEmpresarial = df.loc[df[\"Attrition\"] == \"Left\"] #Filtrando os dados só de quem saiu\n",
    "funcionariosSairamReconhecimentoEmpresarial = funcionariosSairamReconhecimentoEmpresarial[[\"Employee Recognition\", \"Company Size\"]].groupby([\"Employee Recognition\"]).count().sort_values(by=\"Company Size\", ascending=False).reset_index()\n",
    "total = funcionariosSairamReconhecimentoEmpresarial[\"Company Size\"].sum()\n",
    "funcionariosSairamReconhecimentoEmpresarial[\"Porcentagem\"] = round((funcionariosSairamReconhecimentoEmpresarial[\"Company Size\"] / total) * 100, 2) #Criando uma coluna com a porcentagem de cada situação\n",
    "plt.pie(\n",
    "    funcionariosSairamReconhecimentoEmpresarial[\"Porcentagem\"], \n",
    "    labels=funcionariosSairamReconhecimentoEmpresarial[\"Employee Recognition\"], \n",
    "    autopct='%1.1f%%', \n",
    "    startangle=90,\n",
    "    colors=sns.color_palette(\"deep\")      \n",
    ")\n",
    "plt.show()"
   ]
  },
  {
   "cell_type": "markdown",
   "metadata": {},
   "source": [
    "A partir dessa anlálise, vemos que quanto menor o reconhecimento na empresa, maiores são as chances dele sair da empresa. Logo, vemos que estratégias de reconhecimento são necessárias para a permanência na empresa!"
   ]
  },
  {
   "cell_type": "markdown",
   "metadata": {},
   "source": [
    "## Analisando os dados de todos os funcionários com base no seu nivel na empresa"
   ]
  },
  {
   "cell_type": "code",
   "execution_count": 24,
   "metadata": {},
   "outputs": [
    {
     "data": {
      "text/plain": [
       "<Axes: xlabel='Job Level', ylabel='Porcentagem'>"
      ]
     },
     "execution_count": 24,
     "metadata": {},
     "output_type": "execute_result"
    },
    {
     "data": {
      "image/png": "[encoded data removed]",
      "text/plain": [
       "<Figure size 800x800 with 1 Axes>"
      ]
     },
     "metadata": {},
     "output_type": "display_data"
    }
   ],
   "source": [
    "\n",
    "funcionariosSairamFicaramNivelEmprego = df[[\"Attrition\", \"Job Level\", \"Company Size\"]].groupby([\"Attrition\", \"Job Level\"]).count().reset_index()\n",
    "total = funcionariosSairamFicaramNivelEmprego[\"Company Size\"].sum()\n",
    "funcionariosSairamFicaramNivelEmprego[\"Porcentagem\"] = round((funcionariosSairamFicaramNivelEmprego[\"Company Size\"] / total) * 100, 2)\n",
    "\n",
    "plt.figure(figsize=[8, 8])\n",
    "sns.barplot(funcionariosSairamFicaramNivelEmprego, x=\"Job Level\", y = \"Porcentagem\", hue = \"Attrition\")"
   ]
  },
  {
   "cell_type": "markdown",
   "metadata": {},
   "source": [
    "Vemos aqui, que quanto menor o nível de trabalho , maiores as chances do funcionarios sairem(parte azul), e na parte laranja. nos mostra que as pessoas que ficam tem uma tendência a terem niveis mais altos(Mid/Senior). O que nos leva a pensar que os funcionários de com menores níveis não tem uma valorização muito grande, o que fazem eles saírem facilmente! Vamos fazer uma próxima analise para termos uma confirmação!"
   ]
  },
  {
   "cell_type": "code",
   "execution_count": 25,
   "metadata": {},
   "outputs": [
    {
     "data": {
      "text/html": [
       "<div>\n",
       "<style scoped>\n",
       "    .dataframe tbody tr th:only-of-type {\n",
       "        vertical-align: middle;\n",
       "    }\n",
       "\n",
       "    .dataframe tbody tr th {\n",
       "        vertical-align: top;\n",
       "    }\n",
       "\n",
       "    .dataframe thead th {\n",
       "        text-align: right;\n",
       "    }\n",
       "</style>\n",
       "<table border=\"1\" class=\"dataframe\">\n",
       "  <thead>\n",
       "    <tr style=\"text-align: right;\">\n",
       "      <th></th>\n",
       "      <th></th>\n",
       "      <th>Company Size</th>\n",
       "      <th>Porcentagem</th>\n",
       "    </tr>\n",
       "    <tr>\n",
       "      <th>Job Level</th>\n",
       "      <th>Employee Recognition</th>\n",
       "      <th></th>\n",
       "      <th></th>\n",
       "    </tr>\n",
       "  </thead>\n",
       "  <tbody>\n",
       "    <tr>\n",
       "      <th rowspan=\"4\" valign=\"top\">Entry</th>\n",
       "      <th>High</th>\n",
       "      <td>1477</td>\n",
       "      <td>9.91</td>\n",
       "    </tr>\n",
       "    <tr>\n",
       "      <th>Low</th>\n",
       "      <td>2361</td>\n",
       "      <td>15.85</td>\n",
       "    </tr>\n",
       "    <tr>\n",
       "      <th>Medium</th>\n",
       "      <td>1802</td>\n",
       "      <td>12.09</td>\n",
       "    </tr>\n",
       "    <tr>\n",
       "      <th>Very High</th>\n",
       "      <td>273</td>\n",
       "      <td>1.83</td>\n",
       "    </tr>\n",
       "    <tr>\n",
       "      <th rowspan=\"4\" valign=\"top\">Mid</th>\n",
       "      <th>High</th>\n",
       "      <td>1472</td>\n",
       "      <td>9.88</td>\n",
       "    </tr>\n",
       "    <tr>\n",
       "      <th>Low</th>\n",
       "      <td>2291</td>\n",
       "      <td>15.38</td>\n",
       "    </tr>\n",
       "    <tr>\n",
       "      <th>Medium</th>\n",
       "      <td>1863</td>\n",
       "      <td>12.50</td>\n",
       "    </tr>\n",
       "    <tr>\n",
       "      <th>Very High</th>\n",
       "      <td>299</td>\n",
       "      <td>2.01</td>\n",
       "    </tr>\n",
       "    <tr>\n",
       "      <th rowspan=\"4\" valign=\"top\">Senior</th>\n",
       "      <th>High</th>\n",
       "      <td>757</td>\n",
       "      <td>5.08</td>\n",
       "    </tr>\n",
       "    <tr>\n",
       "      <th>Low</th>\n",
       "      <td>1210</td>\n",
       "      <td>8.12</td>\n",
       "    </tr>\n",
       "    <tr>\n",
       "      <th>Medium</th>\n",
       "      <td>959</td>\n",
       "      <td>6.44</td>\n",
       "    </tr>\n",
       "    <tr>\n",
       "      <th>Very High</th>\n",
       "      <td>136</td>\n",
       "      <td>0.91</td>\n",
       "    </tr>\n",
       "  </tbody>\n",
       "</table>\n",
       "</div>"
      ],
      "text/plain": [
       "                                Company Size  Porcentagem\n",
       "Job Level Employee Recognition                           \n",
       "Entry     High                          1477         9.91\n",
       "          Low                           2361        15.85\n",
       "          Medium                        1802        12.09\n",
       "          Very High                      273         1.83\n",
       "Mid       High                          1472         9.88\n",
       "          Low                           2291        15.38\n",
       "          Medium                        1863        12.50\n",
       "          Very High                      299         2.01\n",
       "Senior    High                           757         5.08\n",
       "          Low                           1210         8.12\n",
       "          Medium                         959         6.44\n",
       "          Very High                      136         0.91"
      ]
     },
     "execution_count": 25,
     "metadata": {},
     "output_type": "execute_result"
    }
   ],
   "source": [
    "funcionariosSairamFicaramNivelEmprego = df[[\"Job Level\", \"Employee Recognition\", \"Company Size\"]].groupby([\"Job Level\", \"Employee Recognition\"]).count()\n",
    "total = funcionariosSairamFicaramNivelEmprego[\"Company Size\"].sum()\n",
    "funcionariosSairamFicaramNivelEmprego[\"Porcentagem\"] = round((funcionariosSairamFicaramNivelEmprego[\"Company Size\"] / total) * 100, 2)\n",
    "funcionariosSairamFicaramNivelEmprego"
   ]
  },
  {
   "cell_type": "markdown",
   "metadata": {},
   "source": [
    "Depois dessa analise, vemos que os níveis mais iniciantes tem uma tendência maior a terem pouca valorização, o que confirma nossa analise anterior e conecta com a analise da porcentagem de funcionarios que saem com base no seu reconhecimento na empresa!"
   ]
  },
  {
   "cell_type": "markdown",
   "metadata": {},
   "source": [
    "## Analisando os funcionários que saíram da empresa com base na faxetária de idade deles"
   ]
  },
  {
   "cell_type": "code",
   "execution_count": 26,
   "metadata": {},
   "outputs": [
    {
     "data": {
      "text/html": [
       "<div>\n",
       "<style scoped>\n",
       "    .dataframe tbody tr th:only-of-type {\n",
       "        vertical-align: middle;\n",
       "    }\n",
       "\n",
       "    .dataframe tbody tr th {\n",
       "        vertical-align: top;\n",
       "    }\n",
       "\n",
       "    .dataframe thead th {\n",
       "        text-align: right;\n",
       "    }\n",
       "</style>\n",
       "<table border=\"1\" class=\"dataframe\">\n",
       "  <thead>\n",
       "    <tr style=\"text-align: right;\">\n",
       "      <th></th>\n",
       "      <th></th>\n",
       "      <th>Company Size</th>\n",
       "      <th>Porcentagem</th>\n",
       "    </tr>\n",
       "    <tr>\n",
       "      <th>Attrition</th>\n",
       "      <th>Age_Category</th>\n",
       "      <th></th>\n",
       "      <th></th>\n",
       "    </tr>\n",
       "  </thead>\n",
       "  <tbody>\n",
       "    <tr>\n",
       "      <th rowspan=\"3\" valign=\"top\">Left</th>\n",
       "      <th>middle-aged adults</th>\n",
       "      <td>3256</td>\n",
       "      <td>21.85</td>\n",
       "    </tr>\n",
       "    <tr>\n",
       "      <th>older adults</th>\n",
       "      <td>1417</td>\n",
       "      <td>9.51</td>\n",
       "    </tr>\n",
       "    <tr>\n",
       "      <th>young adults</th>\n",
       "      <td>2359</td>\n",
       "      <td>15.83</td>\n",
       "    </tr>\n",
       "    <tr>\n",
       "      <th rowspan=\"3\" valign=\"top\">Stayed</th>\n",
       "      <th>middle-aged adults</th>\n",
       "      <td>3824</td>\n",
       "      <td>25.66</td>\n",
       "    </tr>\n",
       "    <tr>\n",
       "      <th>older adults</th>\n",
       "      <td>1799</td>\n",
       "      <td>12.07</td>\n",
       "    </tr>\n",
       "    <tr>\n",
       "      <th>young adults</th>\n",
       "      <td>2245</td>\n",
       "      <td>15.07</td>\n",
       "    </tr>\n",
       "  </tbody>\n",
       "</table>\n",
       "</div>"
      ],
      "text/plain": [
       "                              Company Size  Porcentagem\n",
       "Attrition Age_Category                                 \n",
       "Left      middle-aged adults          3256        21.85\n",
       "          older adults                1417         9.51\n",
       "          young adults                2359        15.83\n",
       "Stayed    middle-aged adults          3824        25.66\n",
       "          older adults                1799        12.07\n",
       "          young adults                2245        15.07"
      ]
     },
     "execution_count": 26,
     "metadata": {},
     "output_type": "execute_result"
    }
   ],
   "source": [
    "def AgeClassifier(age): #Função que pega as idades e retorna a classificação \n",
    "    if age <= 30:\n",
    "        return \"young adults\"\n",
    "    elif age >= 31 and age <=50:\n",
    "        return \"middle-aged adults\"\n",
    "    else:\n",
    "        return \"older adults\"\n",
    "\n",
    "df[\"Age_Category\"] = df[\"Age\"].apply(AgeClassifier)#coluna criada pra analisar se a faxetaria de idade interfere na saída do funcionario\n",
    "\n",
    "\n",
    "funcionariosSairamIdade = df[[\"Attrition\", \"Age_Category\", \"Company Size\"]].groupby([\"Attrition\", \"Age_Category\"]).count() \n",
    "total = funcionariosSairamIdade[\"Company Size\"].sum()\n",
    "funcionariosSairamIdade[\"Porcentagem\"] = round((funcionariosSairamIdade[\"Company Size\"] / total) * 100, 2)\n",
    "funcionariosSairamIdade"
   ]
  },
  {
   "cell_type": "markdown",
   "metadata": {},
   "source": [
    "## Analisando a Média das idades para comprovar a hipótese que os funcionarios entre 38 e 45 tem uma tendencia a sair da empresa"
   ]
  },
  {
   "cell_type": "code",
   "execution_count": 27,
   "metadata": {},
   "outputs": [
    {
     "data": {
      "text/html": [
       "<div>\n",
       "<style scoped>\n",
       "    .dataframe tbody tr th:only-of-type {\n",
       "        vertical-align: middle;\n",
       "    }\n",
       "\n",
       "    .dataframe tbody tr th {\n",
       "        vertical-align: top;\n",
       "    }\n",
       "\n",
       "    .dataframe thead th {\n",
       "        text-align: right;\n",
       "    }\n",
       "</style>\n",
       "<table border=\"1\" class=\"dataframe\">\n",
       "  <thead>\n",
       "    <tr style=\"text-align: right;\">\n",
       "      <th></th>\n",
       "      <th>Age</th>\n",
       "    </tr>\n",
       "    <tr>\n",
       "      <th>Job Level</th>\n",
       "      <th></th>\n",
       "    </tr>\n",
       "  </thead>\n",
       "  <tbody>\n",
       "    <tr>\n",
       "      <th>Entry</th>\n",
       "      <td>38.202604</td>\n",
       "    </tr>\n",
       "    <tr>\n",
       "      <th>Mid</th>\n",
       "      <td>38.494852</td>\n",
       "    </tr>\n",
       "    <tr>\n",
       "      <th>Senior</th>\n",
       "      <td>38.525800</td>\n",
       "    </tr>\n",
       "  </tbody>\n",
       "</table>\n",
       "</div>"
      ],
      "text/plain": [
       "                 Age\n",
       "Job Level           \n",
       "Entry      38.202604\n",
       "Mid        38.494852\n",
       "Senior     38.525800"
      ]
     },
     "execution_count": 27,
     "metadata": {},
     "output_type": "execute_result"
    }
   ],
   "source": [
    "df[[\"Job Level\", \"Age\"]].groupby(\"Job Level\").mean() "
   ]
  },
  {
   "cell_type": "markdown",
   "metadata": {},
   "source": [
    "Depois dessas duas análises, vemos que as pessoas 31-50 tendem a sair da empresa mais facilmente!"
   ]
  }
 ],
 "metadata": {
  "kernelspec": {
   "display_name": "base",
   "language": "python",
   "name": "python3"
  },
  "language_info": {
   "codemirror_mode": {
    "name": "ipython",
    "version": 3
   },
   "file_extension": ".py",
   "mimetype": "text/x-python",
   "name": "python",
   "nbconvert_exporter": "python",
   "pygments_lexer": "ipython3",
   "version": "3.12.4"
  }
 },
 "nbformat": 4,
 "nbformat_minor": 2
}
